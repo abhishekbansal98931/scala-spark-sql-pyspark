discovery_dir = '/projects/discovery/warehouse/discovery_prd.db'
discovery_latest_dir = '/projects/discovery/warehouse/discovery_latest.db'

from pyspark.sql.functions import *
from pyspark.sql.types import *
from pyspark.sql import Window
from pyspark.sql import functions as F 
from pyspark.sql import Row
from pyspark.sql import *
from pyspark.sql.functions import regexp_extract, regexp_replace, col

import pandas as pd
pd.options.display.max_columns = None
pd.options.display.max_rows = 200
